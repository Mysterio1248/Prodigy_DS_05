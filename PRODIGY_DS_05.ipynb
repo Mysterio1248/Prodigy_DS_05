{
  "nbformat": 4,
  "nbformat_minor": 0,
  "metadata": {
    "colab": {
      "provenance": [],
      "authorship_tag": "ABX9TyNZN5kdzsw7DgGn+TCT/mhx",
      "include_colab_link": true
    },
    "kernelspec": {
      "name": "python3",
      "display_name": "Python 3"
    },
    "language_info": {
      "name": "python"
    }
  },
  "cells": [
    {
      "cell_type": "markdown",
      "metadata": {
        "id": "view-in-github",
        "colab_type": "text"
      },
      "source": [
        "<a href=\"https://colab.research.google.com/github/Mysterio1248/Prodigy_DS_05/blob/main/PRODIGY_DS_05.ipynb\" target=\"_parent\"><img src=\"https://colab.research.google.com/assets/colab-badge.svg\" alt=\"Open In Colab\"/></a>"
      ]
    },
    {
      "cell_type": "code",
      "source": [
        "import pandas as pd\n",
        "import matplotlib.pyplot as plt\n",
        "import seaborn as sns\n",
        "import opendatasets as od\n",
        "\n",
        "#!pip install opendatasets --upgrade --quiet\n",
        "## can download requred dataset file from this link  using your kaggle credentials\n",
        "download_url = 'https://www.kaggle.com/sobhanmoosavi/us-accidents'\n",
        "od.download(download_url)\n",
        "# Loading the dataset\n",
        "data = pd.read_csv(\"US_Accidents_March23.csv\")\n",
        "\n",
        "# Exploring the dataset to understand its structure and columns\n",
        "print(data.info())\n",
        "\n",
        "# Analyzing patterns related to road conditions\n",
        "road_condition_counts = data['Weather_Condition'].value_counts()\n",
        "print(\"\\nTop 10 Weather Conditions:\")\n",
        "print(road_condition_counts.head(10))\n",
        "\n",
        "# Analyzing patterns related to weather conditions\n",
        "weather_counts = data['Weather_Condition'].value_counts()\n",
        "print(\"\\nTop 10 Weather Conditions:\")\n",
        "print(weather_counts.head(10))\n",
        "\n",
        "# Analyzing patterns related to time of day\n",
        "data['Start_Time'] = pd.to_datetime(data['Start_Time'])\n",
        "data['Hour'] = data['Start_Time'].dt.hour\n",
        "hourly_accidents = data.groupby('Hour').size()\n",
        "print(\"\\nHourly Accident Counts:\")\n",
        "print(hourly_accidents)\n",
        "\n",
        "# Visualizing accident hotspots\n",
        "plt.figure(figsize=(12, 6))\n",
        "sns.scatterplot(x='Start_Lng', y='Start_Lat', data=data, alpha=0.1)\n",
        "plt.title('Accident Hotspots')\n",
        "plt.xlabel('Longitude')\n",
        "plt.ylabel('Latitude')\n",
        "plt.show()\n",
        "\n",
        "# Visualizing contributing factors\n",
        "contributing_factors = data['Traffic_Signal'].value_counts()\n",
        "plt.figure(figsize=(8, 4))\n",
        "sns.barplot(x=contributing_factors.index, y=contributing_factors.values)\n",
        "plt.title('Traffic Signals vs. Accidents')\n",
        "plt.xlabel('Traffic Signal Presence')\n",
        "plt.ylabel('Accident Count')\n",
        "plt.show()"
      ],
      "metadata": {
        "id": "M6Ra7zHfbFr0"
      },
      "execution_count": null,
      "outputs": []
    }
  ]
}